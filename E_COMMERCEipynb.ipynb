{
  "nbformat": 4,
  "nbformat_minor": 0,
  "metadata": {
    "colab": {
      "provenance": [],
      "authorship_tag": "ABX9TyPJdODfBv1WafcnhB8CcPnY",
      "include_colab_link": true
    },
    "kernelspec": {
      "name": "python3",
      "display_name": "Python 3"
    },
    "language_info": {
      "name": "python"
    }
  },
  "cells": [
    {
      "cell_type": "markdown",
      "metadata": {
        "id": "view-in-github",
        "colab_type": "text"
      },
      "source": [
        "<a href=\"https://colab.research.google.com/github/madhura2024/myAI_MODELS/blob/main/E_COMMERCEipynb.ipynb\" target=\"_parent\"><img src=\"https://colab.research.google.com/assets/colab-badge.svg\" alt=\"Open In Colab\"/></a>"
      ]
    },
    {
      "cell_type": "markdown",
      "source": [
        "step 0 - the basics\n"
      ],
      "metadata": {
        "id": "WLcxQUjGaXK1"
      }
    },
    {
      "cell_type": "code",
      "source": [
        "import pandas as pd\n",
        "import numpy as np\n",
        "from sklearn.metrics import mean_squared_error, r2_score, accuracy_score\n",
        "from sklearn.preprocessing import LabelEncoder, StandardScaler, OneHotEncoder\n",
        "from sklearn.compose import ColumnTransformer\n",
        "from sklearn.model_selection import train_test_split\n",
        "# seed random just set  random something\n",
        "# np.random.seed(11)\n",
        "# display all , dont hide columns\n",
        "pd.set_option('display.max_columns', None)"
      ],
      "metadata": {
        "id": "uFZ_7LJqaj3E"
      },
      "execution_count": 55,
      "outputs": []
    },
    {
      "cell_type": "markdown",
      "source": [
        "step 1-import files"
      ],
      "metadata": {
        "id": "ognzYZO9cg0H"
      }
    },
    {
      "cell_type": "code",
      "source": [
        "# for importing files write this------>\n",
        "imported = pd.read_excel(\"https://archive.ics.uci.edu/ml/machine-learning-databases/00352/Online%20Retail.xlsx\")\n",
        "imported.head(5000)"
      ],
      "metadata": {
        "colab": {
          "base_uri": "https://localhost:8080/",
          "height": 423
        },
        "id": "kHGrLqC3ckPT",
        "outputId": "044514eb-c376-4dfd-edcd-e1f42135ebc7"
      },
      "execution_count": 56,
      "outputs": [
        {
          "output_type": "execute_result",
          "data": {
            "text/plain": [
              "     InvoiceNo StockCode                          Description  Quantity  \\\n",
              "0       536365    85123A   WHITE HANGING HEART T-LIGHT HOLDER         6   \n",
              "1       536365     71053                  WHITE METAL LANTERN         6   \n",
              "2       536365    84406B       CREAM CUPID HEARTS COAT HANGER         8   \n",
              "3       536365    84029G  KNITTED UNION FLAG HOT WATER BOTTLE         6   \n",
              "4       536365    84029E       RED WOOLLY HOTTIE WHITE HEART.         6   \n",
              "...        ...       ...                                  ...       ...   \n",
              "4995    536836     21843             RED RETROSPOT CAKE STAND         2   \n",
              "4996    536836     21531         RED RETROSPOT SUGAR JAM BOWL         2   \n",
              "4997    536836     21539            RED RETROSPOT BUTTER DISH         3   \n",
              "4998    536836     22198                LARGE POPCORN HOLDER          2   \n",
              "4999    536836     22197                 SMALL POPCORN HOLDER         2   \n",
              "\n",
              "             InvoiceDate  UnitPrice  CustomerID         Country  \n",
              "0    2010-12-01 08:26:00       2.55     17850.0  United Kingdom  \n",
              "1    2010-12-01 08:26:00       3.39     17850.0  United Kingdom  \n",
              "2    2010-12-01 08:26:00       2.75     17850.0  United Kingdom  \n",
              "3    2010-12-01 08:26:00       3.39     17850.0  United Kingdom  \n",
              "4    2010-12-01 08:26:00       3.39     17850.0  United Kingdom  \n",
              "...                  ...        ...         ...             ...  \n",
              "4995 2010-12-02 18:08:00      10.95     18168.0  United Kingdom  \n",
              "4996 2010-12-02 18:08:00       2.55     18168.0  United Kingdom  \n",
              "4997 2010-12-02 18:08:00       4.95     18168.0  United Kingdom  \n",
              "4998 2010-12-02 18:08:00       1.65     18168.0  United Kingdom  \n",
              "4999 2010-12-02 18:08:00       0.85     18168.0  United Kingdom  \n",
              "\n",
              "[5000 rows x 8 columns]"
            ],
            "text/html": [
              "\n",
              "  <div id=\"df-1e5d0f2d-c680-455f-8b5c-184a140d476a\" class=\"colab-df-container\">\n",
              "    <div>\n",
              "<style scoped>\n",
              "    .dataframe tbody tr th:only-of-type {\n",
              "        vertical-align: middle;\n",
              "    }\n",
              "\n",
              "    .dataframe tbody tr th {\n",
              "        vertical-align: top;\n",
              "    }\n",
              "\n",
              "    .dataframe thead th {\n",
              "        text-align: right;\n",
              "    }\n",
              "</style>\n",
              "<table border=\"1\" class=\"dataframe\">\n",
              "  <thead>\n",
              "    <tr style=\"text-align: right;\">\n",
              "      <th></th>\n",
              "      <th>InvoiceNo</th>\n",
              "      <th>StockCode</th>\n",
              "      <th>Description</th>\n",
              "      <th>Quantity</th>\n",
              "      <th>InvoiceDate</th>\n",
              "      <th>UnitPrice</th>\n",
              "      <th>CustomerID</th>\n",
              "      <th>Country</th>\n",
              "    </tr>\n",
              "  </thead>\n",
              "  <tbody>\n",
              "    <tr>\n",
              "      <th>0</th>\n",
              "      <td>536365</td>\n",
              "      <td>85123A</td>\n",
              "      <td>WHITE HANGING HEART T-LIGHT HOLDER</td>\n",
              "      <td>6</td>\n",
              "      <td>2010-12-01 08:26:00</td>\n",
              "      <td>2.55</td>\n",
              "      <td>17850.0</td>\n",
              "      <td>United Kingdom</td>\n",
              "    </tr>\n",
              "    <tr>\n",
              "      <th>1</th>\n",
              "      <td>536365</td>\n",
              "      <td>71053</td>\n",
              "      <td>WHITE METAL LANTERN</td>\n",
              "      <td>6</td>\n",
              "      <td>2010-12-01 08:26:00</td>\n",
              "      <td>3.39</td>\n",
              "      <td>17850.0</td>\n",
              "      <td>United Kingdom</td>\n",
              "    </tr>\n",
              "    <tr>\n",
              "      <th>2</th>\n",
              "      <td>536365</td>\n",
              "      <td>84406B</td>\n",
              "      <td>CREAM CUPID HEARTS COAT HANGER</td>\n",
              "      <td>8</td>\n",
              "      <td>2010-12-01 08:26:00</td>\n",
              "      <td>2.75</td>\n",
              "      <td>17850.0</td>\n",
              "      <td>United Kingdom</td>\n",
              "    </tr>\n",
              "    <tr>\n",
              "      <th>3</th>\n",
              "      <td>536365</td>\n",
              "      <td>84029G</td>\n",
              "      <td>KNITTED UNION FLAG HOT WATER BOTTLE</td>\n",
              "      <td>6</td>\n",
              "      <td>2010-12-01 08:26:00</td>\n",
              "      <td>3.39</td>\n",
              "      <td>17850.0</td>\n",
              "      <td>United Kingdom</td>\n",
              "    </tr>\n",
              "    <tr>\n",
              "      <th>4</th>\n",
              "      <td>536365</td>\n",
              "      <td>84029E</td>\n",
              "      <td>RED WOOLLY HOTTIE WHITE HEART.</td>\n",
              "      <td>6</td>\n",
              "      <td>2010-12-01 08:26:00</td>\n",
              "      <td>3.39</td>\n",
              "      <td>17850.0</td>\n",
              "      <td>United Kingdom</td>\n",
              "    </tr>\n",
              "    <tr>\n",
              "      <th>...</th>\n",
              "      <td>...</td>\n",
              "      <td>...</td>\n",
              "      <td>...</td>\n",
              "      <td>...</td>\n",
              "      <td>...</td>\n",
              "      <td>...</td>\n",
              "      <td>...</td>\n",
              "      <td>...</td>\n",
              "    </tr>\n",
              "    <tr>\n",
              "      <th>4995</th>\n",
              "      <td>536836</td>\n",
              "      <td>21843</td>\n",
              "      <td>RED RETROSPOT CAKE STAND</td>\n",
              "      <td>2</td>\n",
              "      <td>2010-12-02 18:08:00</td>\n",
              "      <td>10.95</td>\n",
              "      <td>18168.0</td>\n",
              "      <td>United Kingdom</td>\n",
              "    </tr>\n",
              "    <tr>\n",
              "      <th>4996</th>\n",
              "      <td>536836</td>\n",
              "      <td>21531</td>\n",
              "      <td>RED RETROSPOT SUGAR JAM BOWL</td>\n",
              "      <td>2</td>\n",
              "      <td>2010-12-02 18:08:00</td>\n",
              "      <td>2.55</td>\n",
              "      <td>18168.0</td>\n",
              "      <td>United Kingdom</td>\n",
              "    </tr>\n",
              "    <tr>\n",
              "      <th>4997</th>\n",
              "      <td>536836</td>\n",
              "      <td>21539</td>\n",
              "      <td>RED RETROSPOT BUTTER DISH</td>\n",
              "      <td>3</td>\n",
              "      <td>2010-12-02 18:08:00</td>\n",
              "      <td>4.95</td>\n",
              "      <td>18168.0</td>\n",
              "      <td>United Kingdom</td>\n",
              "    </tr>\n",
              "    <tr>\n",
              "      <th>4998</th>\n",
              "      <td>536836</td>\n",
              "      <td>22198</td>\n",
              "      <td>LARGE POPCORN HOLDER</td>\n",
              "      <td>2</td>\n",
              "      <td>2010-12-02 18:08:00</td>\n",
              "      <td>1.65</td>\n",
              "      <td>18168.0</td>\n",
              "      <td>United Kingdom</td>\n",
              "    </tr>\n",
              "    <tr>\n",
              "      <th>4999</th>\n",
              "      <td>536836</td>\n",
              "      <td>22197</td>\n",
              "      <td>SMALL POPCORN HOLDER</td>\n",
              "      <td>2</td>\n",
              "      <td>2010-12-02 18:08:00</td>\n",
              "      <td>0.85</td>\n",
              "      <td>18168.0</td>\n",
              "      <td>United Kingdom</td>\n",
              "    </tr>\n",
              "  </tbody>\n",
              "</table>\n",
              "<p>5000 rows × 8 columns</p>\n",
              "</div>\n",
              "    <div class=\"colab-df-buttons\">\n",
              "\n",
              "  <div class=\"colab-df-container\">\n",
              "    <button class=\"colab-df-convert\" onclick=\"convertToInteractive('df-1e5d0f2d-c680-455f-8b5c-184a140d476a')\"\n",
              "            title=\"Convert this dataframe to an interactive table.\"\n",
              "            style=\"display:none;\">\n",
              "\n",
              "  <svg xmlns=\"http://www.w3.org/2000/svg\" height=\"24px\" viewBox=\"0 -960 960 960\">\n",
              "    <path d=\"M120-120v-720h720v720H120Zm60-500h600v-160H180v160Zm220 220h160v-160H400v160Zm0 220h160v-160H400v160ZM180-400h160v-160H180v160Zm440 0h160v-160H620v160ZM180-180h160v-160H180v160Zm440 0h160v-160H620v160Z\"/>\n",
              "  </svg>\n",
              "    </button>\n",
              "\n",
              "  <style>\n",
              "    .colab-df-container {\n",
              "      display:flex;\n",
              "      gap: 12px;\n",
              "    }\n",
              "\n",
              "    .colab-df-convert {\n",
              "      background-color: #E8F0FE;\n",
              "      border: none;\n",
              "      border-radius: 50%;\n",
              "      cursor: pointer;\n",
              "      display: none;\n",
              "      fill: #1967D2;\n",
              "      height: 32px;\n",
              "      padding: 0 0 0 0;\n",
              "      width: 32px;\n",
              "    }\n",
              "\n",
              "    .colab-df-convert:hover {\n",
              "      background-color: #E2EBFA;\n",
              "      box-shadow: 0px 1px 2px rgba(60, 64, 67, 0.3), 0px 1px 3px 1px rgba(60, 64, 67, 0.15);\n",
              "      fill: #174EA6;\n",
              "    }\n",
              "\n",
              "    .colab-df-buttons div {\n",
              "      margin-bottom: 4px;\n",
              "    }\n",
              "\n",
              "    [theme=dark] .colab-df-convert {\n",
              "      background-color: #3B4455;\n",
              "      fill: #D2E3FC;\n",
              "    }\n",
              "\n",
              "    [theme=dark] .colab-df-convert:hover {\n",
              "      background-color: #434B5C;\n",
              "      box-shadow: 0px 1px 3px 1px rgba(0, 0, 0, 0.15);\n",
              "      filter: drop-shadow(0px 1px 2px rgba(0, 0, 0, 0.3));\n",
              "      fill: #FFFFFF;\n",
              "    }\n",
              "  </style>\n",
              "\n",
              "    <script>\n",
              "      const buttonEl =\n",
              "        document.querySelector('#df-1e5d0f2d-c680-455f-8b5c-184a140d476a button.colab-df-convert');\n",
              "      buttonEl.style.display =\n",
              "        google.colab.kernel.accessAllowed ? 'block' : 'none';\n",
              "\n",
              "      async function convertToInteractive(key) {\n",
              "        const element = document.querySelector('#df-1e5d0f2d-c680-455f-8b5c-184a140d476a');\n",
              "        const dataTable =\n",
              "          await google.colab.kernel.invokeFunction('convertToInteractive',\n",
              "                                                    [key], {});\n",
              "        if (!dataTable) return;\n",
              "\n",
              "        const docLinkHtml = 'Like what you see? Visit the ' +\n",
              "          '<a target=\"_blank\" href=https://colab.research.google.com/notebooks/data_table.ipynb>data table notebook</a>'\n",
              "          + ' to learn more about interactive tables.';\n",
              "        element.innerHTML = '';\n",
              "        dataTable['output_type'] = 'display_data';\n",
              "        await google.colab.output.renderOutput(dataTable, element);\n",
              "        const docLink = document.createElement('div');\n",
              "        docLink.innerHTML = docLinkHtml;\n",
              "        element.appendChild(docLink);\n",
              "      }\n",
              "    </script>\n",
              "  </div>\n",
              "\n",
              "\n",
              "    <div id=\"df-76003f75-899e-4476-a9c2-819d5afca222\">\n",
              "      <button class=\"colab-df-quickchart\" onclick=\"quickchart('df-76003f75-899e-4476-a9c2-819d5afca222')\"\n",
              "                title=\"Suggest charts\"\n",
              "                style=\"display:none;\">\n",
              "\n",
              "<svg xmlns=\"http://www.w3.org/2000/svg\" height=\"24px\"viewBox=\"0 0 24 24\"\n",
              "     width=\"24px\">\n",
              "    <g>\n",
              "        <path d=\"M19 3H5c-1.1 0-2 .9-2 2v14c0 1.1.9 2 2 2h14c1.1 0 2-.9 2-2V5c0-1.1-.9-2-2-2zM9 17H7v-7h2v7zm4 0h-2V7h2v10zm4 0h-2v-4h2v4z\"/>\n",
              "    </g>\n",
              "</svg>\n",
              "      </button>\n",
              "\n",
              "<style>\n",
              "  .colab-df-quickchart {\n",
              "      --bg-color: #E8F0FE;\n",
              "      --fill-color: #1967D2;\n",
              "      --hover-bg-color: #E2EBFA;\n",
              "      --hover-fill-color: #174EA6;\n",
              "      --disabled-fill-color: #AAA;\n",
              "      --disabled-bg-color: #DDD;\n",
              "  }\n",
              "\n",
              "  [theme=dark] .colab-df-quickchart {\n",
              "      --bg-color: #3B4455;\n",
              "      --fill-color: #D2E3FC;\n",
              "      --hover-bg-color: #434B5C;\n",
              "      --hover-fill-color: #FFFFFF;\n",
              "      --disabled-bg-color: #3B4455;\n",
              "      --disabled-fill-color: #666;\n",
              "  }\n",
              "\n",
              "  .colab-df-quickchart {\n",
              "    background-color: var(--bg-color);\n",
              "    border: none;\n",
              "    border-radius: 50%;\n",
              "    cursor: pointer;\n",
              "    display: none;\n",
              "    fill: var(--fill-color);\n",
              "    height: 32px;\n",
              "    padding: 0;\n",
              "    width: 32px;\n",
              "  }\n",
              "\n",
              "  .colab-df-quickchart:hover {\n",
              "    background-color: var(--hover-bg-color);\n",
              "    box-shadow: 0 1px 2px rgba(60, 64, 67, 0.3), 0 1px 3px 1px rgba(60, 64, 67, 0.15);\n",
              "    fill: var(--button-hover-fill-color);\n",
              "  }\n",
              "\n",
              "  .colab-df-quickchart-complete:disabled,\n",
              "  .colab-df-quickchart-complete:disabled:hover {\n",
              "    background-color: var(--disabled-bg-color);\n",
              "    fill: var(--disabled-fill-color);\n",
              "    box-shadow: none;\n",
              "  }\n",
              "\n",
              "  .colab-df-spinner {\n",
              "    border: 2px solid var(--fill-color);\n",
              "    border-color: transparent;\n",
              "    border-bottom-color: var(--fill-color);\n",
              "    animation:\n",
              "      spin 1s steps(1) infinite;\n",
              "  }\n",
              "\n",
              "  @keyframes spin {\n",
              "    0% {\n",
              "      border-color: transparent;\n",
              "      border-bottom-color: var(--fill-color);\n",
              "      border-left-color: var(--fill-color);\n",
              "    }\n",
              "    20% {\n",
              "      border-color: transparent;\n",
              "      border-left-color: var(--fill-color);\n",
              "      border-top-color: var(--fill-color);\n",
              "    }\n",
              "    30% {\n",
              "      border-color: transparent;\n",
              "      border-left-color: var(--fill-color);\n",
              "      border-top-color: var(--fill-color);\n",
              "      border-right-color: var(--fill-color);\n",
              "    }\n",
              "    40% {\n",
              "      border-color: transparent;\n",
              "      border-right-color: var(--fill-color);\n",
              "      border-top-color: var(--fill-color);\n",
              "    }\n",
              "    60% {\n",
              "      border-color: transparent;\n",
              "      border-right-color: var(--fill-color);\n",
              "    }\n",
              "    80% {\n",
              "      border-color: transparent;\n",
              "      border-right-color: var(--fill-color);\n",
              "      border-bottom-color: var(--fill-color);\n",
              "    }\n",
              "    90% {\n",
              "      border-color: transparent;\n",
              "      border-bottom-color: var(--fill-color);\n",
              "    }\n",
              "  }\n",
              "</style>\n",
              "\n",
              "      <script>\n",
              "        async function quickchart(key) {\n",
              "          const quickchartButtonEl =\n",
              "            document.querySelector('#' + key + ' button');\n",
              "          quickchartButtonEl.disabled = true;  // To prevent multiple clicks.\n",
              "          quickchartButtonEl.classList.add('colab-df-spinner');\n",
              "          try {\n",
              "            const charts = await google.colab.kernel.invokeFunction(\n",
              "                'suggestCharts', [key], {});\n",
              "          } catch (error) {\n",
              "            console.error('Error during call to suggestCharts:', error);\n",
              "          }\n",
              "          quickchartButtonEl.classList.remove('colab-df-spinner');\n",
              "          quickchartButtonEl.classList.add('colab-df-quickchart-complete');\n",
              "        }\n",
              "        (() => {\n",
              "          let quickchartButtonEl =\n",
              "            document.querySelector('#df-76003f75-899e-4476-a9c2-819d5afca222 button');\n",
              "          quickchartButtonEl.style.display =\n",
              "            google.colab.kernel.accessAllowed ? 'block' : 'none';\n",
              "        })();\n",
              "      </script>\n",
              "    </div>\n",
              "\n",
              "    </div>\n",
              "  </div>\n"
            ],
            "application/vnd.google.colaboratory.intrinsic+json": {
              "type": "dataframe",
              "variable_name": "imported"
            }
          },
          "metadata": {},
          "execution_count": 56
        }
      ]
    },
    {
      "cell_type": "markdown",
      "source": [
        "step 2-delete rows with incomplete data"
      ],
      "metadata": {
        "id": "Hh6PpMiVJCeu"
      }
    },
    {
      "cell_type": "code",
      "source": [
        "# where customer id not present\n",
        "\n",
        "imported=imported.dropna(subset=['CustomerID'])\n",
        "# decription not present\n",
        "\n",
        "imported=imported.dropna(subset=['Description'])"
      ],
      "metadata": {
        "id": "cmFUFtlQJhF1"
      },
      "execution_count": 57,
      "outputs": []
    },
    {
      "cell_type": "markdown",
      "source": [
        "step 3-drop duplicates"
      ],
      "metadata": {
        "id": "WUhYRrZYK2LW"
      }
    },
    {
      "cell_type": "code",
      "source": [
        "imported=imported.drop_duplicates()"
      ],
      "metadata": {
        "id": "8h98CwiAMp36"
      },
      "execution_count": 58,
      "outputs": []
    },
    {
      "cell_type": "markdown",
      "source": [
        "step 3-\n",
        "*   change word----------->number\n",
        "*   change names of products------------>number\n",
        "*   change too high  /  too low to fit a scale\n",
        "\n",
        "\n",
        "\n",
        "\n",
        "\n"
      ],
      "metadata": {
        "id": "SKG5w1UgTUhR"
      }
    },
    {
      "cell_type": "code",
      "source": [
        "# this is labelencoder.this automatically gives 0/1 to names etc     (ordered)\n",
        "imported = pd.get_dummies(imported, columns=['Country'], drop_first=True)\n",
        "\n",
        "\n",
        "# this is onehotencoder so it has fit_transform ,, where every word will have unique non ordered numbers (001,011,010....)\n",
        "\n",
        "# safety check again drop anything with null  or    string value !!!!!!!!!!!!!!!!!!!!!\n",
        "\n",
        "\n",
        "imported = imported.dropna(subset=['Description'])\n",
        "imported = pd.get_dummies(imported, columns=['Description'], drop_first=True)\n",
        "imported=imported.dropna()"
      ],
      "metadata": {
        "id": "6FAIvt9pT7A1"
      },
      "execution_count": 59,
      "outputs": []
    },
    {
      "cell_type": "markdown",
      "source": [
        "step 4-set divide train / test"
      ],
      "metadata": {
        "id": "8Qrhm_GBYlYq"
      }
    },
    {
      "cell_type": "code",
      "source": [
        "y = imported.loc[:, 'UnitPrice']\n",
        "x = imported.loc[:, imported.columns != 'UnitPrice']\n",
        "\n",
        "#  had huge error here . always remember safety check dtype always check for number otherwise string error !!!!!!!!!!!!!!!!\n",
        "x = x.select_dtypes(include=['number'])\n",
        "x_train,x_test,y_train,y_test=train_test_split(x,y,test_size=0.2)"
      ],
      "metadata": {
        "id": "cpZ3GWPHYtpQ"
      },
      "execution_count": 60,
      "outputs": []
    },
    {
      "cell_type": "markdown",
      "source": [
        "step 5- linear regression"
      ],
      "metadata": {
        "id": "DMWegSXArJEK"
      }
    },
    {
      "cell_type": "code",
      "source": [
        "from sklearn.linear_model import LinearRegression\n",
        "model=LinearRegression()\n",
        "model.fit(x_train,y_train)\n",
        "y_pred=model.predict(x_test)"
      ],
      "metadata": {
        "id": "EYlxAeiVrOCv"
      },
      "execution_count": 61,
      "outputs": []
    },
    {
      "cell_type": "markdown",
      "source": [
        "step 6- check accuracy of model"
      ],
      "metadata": {
        "id": "3lWbTLfVTd3u"
      }
    },
    {
      "cell_type": "code",
      "source": [
        "from sklearn.metrics import mean_squared_error,r2_score\n",
        "mse=mean_squared_error(y_test,y_pred)\n",
        "r2=r2_score(y_test,y_pred)\n",
        "import matplotlib.pyplot as plt\n",
        "plt.scatter(y_test, y_pred, color='green')  # green dots\n",
        "plt.show()"
      ],
      "metadata": {
        "id": "FrkmOZVuTjAp",
        "colab": {
          "base_uri": "https://localhost:8080/",
          "height": 430
        },
        "outputId": "ef72ab58-bd80-4dee-a26c-fcb2ea934883"
      },
      "execution_count": 78,
      "outputs": [
        {
          "output_type": "display_data",
          "data": {
            "text/plain": [
              "<Figure size 640x480 with 1 Axes>"
            ],
            "image/png": "[encoded data removed]"
          },
          "metadata": {}
        }
      ]
    },
    {
      "cell_type": "markdown",
      "source": [
        "step 7-random forest regressor"
      ],
      "metadata": {
        "id": "Vkk0v5_4qX9h"
      }
    },
    {
      "cell_type": "code",
      "source": [
        "from sklearn.ensemble import RandomForestRegressor\n",
        "imported['TotalPrice'] = imported['Quantity'] * imported['UnitPrice']\n",
        "y = imported.loc[:, 'TotalPrice']\n",
        "x = imported.loc[:, imported.columns != 'TotalPrice']\n",
        "x = x.select_dtypes(include=['number'])\n",
        "x_train, x_test, y_train, y_test = train_test_split(x, y, test_size=0.2, random_state=11)"
      ],
      "metadata": {
        "id": "s-e5N1VUqdEl"
      },
      "execution_count": 63,
      "outputs": []
    },
    {
      "cell_type": "markdown",
      "source": [
        "step 8-check rfr"
      ],
      "metadata": {
        "id": "yM1OmZCFyc4M"
      }
    },
    {
      "cell_type": "code",
      "source": [
        "model=RandomForestRegressor()\n",
        "model.fit(x_train,y_train)\n",
        "y_pred=model.predict(x_test)"
      ],
      "metadata": {
        "id": "C29QrQUNygNv"
      },
      "execution_count": 64,
      "outputs": []
    },
    {
      "cell_type": "markdown",
      "source": [
        "step 9-check value"
      ],
      "metadata": {
        "id": "aAQC5r3W9ckL"
      }
    },
    {
      "cell_type": "code",
      "source": [
        "rmse = np.sqrt(mean_squared_error(y_test, y_pred))\n",
        "r2 = r2_score(y_test, y_pred)\n",
        "result=[]\n",
        "result.append([\"linear\",r2])\n",
        "import matplotlib.pyplot as plt\n",
        "plt.scatter(y_test, y_pred, color='green')  # green dots\n",
        "plt.show()"
      ],
      "metadata": {
        "id": "JFp-E5CY9h--",
        "colab": {
          "base_uri": "https://localhost:8080/",
          "height": 430
        },
        "outputId": "4e8cc28c-d0cc-4656-be5d-549ad4535248"
      },
      "execution_count": 77,
      "outputs": [
        {
          "output_type": "display_data",
          "data": {
            "text/plain": [
              "<Figure size 640x480 with 1 Axes>"
            ],
            "image/png": "[encoded data removed]"
          },
          "metadata": {}
        }
      ]
    },
    {
      "cell_type": "markdown",
      "source": [
        "step 9-polynomial regressor(this is same as linear regression , just the degree is more)"
      ],
      "metadata": {
        "id": "8W3RceZ09qhE"
      }
    },
    {
      "cell_type": "code",
      "source": [
        "from sklearn.preprocessing import PolynomialFeatures\n",
        "poly = PolynomialFeatures(degree=2)\n",
        "\n",
        "# same thing still exists same as linear regression just change input type to polynomial\n",
        "\n",
        "x_train_poly = poly.fit_transform(x_train)\n",
        "x_test_poly = poly.transform(x_test)\n",
        "\n",
        "# call\n",
        "\n",
        "model = LinearRegression()\n",
        "model.fit(x_train_poly, y_train)\n",
        "y_pred = model.predict(x_test_poly)\n",
        "\n",
        "# same output style\n",
        "\n",
        "rmse = np.sqrt(mean_squared_error(y_test, y_pred))\n",
        "r2 = r2_score(y_test, y_pred)\n",
        "result.append([\"polynomial\",r2])\n",
        "import matplotlib.pyplot as plt\n",
        "plt.scatter(y_test, y_pred, color='green')  # green dots\n",
        "plt.show()"
      ],
      "metadata": {
        "id": "xpi1HlptAQ3C",
        "colab": {
          "base_uri": "https://localhost:8080/",
          "height": 430
        },
        "outputId": "ce17a470-86d4-4496-d3b4-16bfcce0de85"
      },
      "execution_count": 79,
      "outputs": [
        {
          "output_type": "display_data",
          "data": {
            "text/plain": [
              "<Figure size 640x480 with 1 Axes>"
            ],
            "image/png": "[encoded data removed]"
          },
          "metadata": {}
        }
      ]
    },
    {
      "cell_type": "markdown",
      "source": [
        "step 10-decision tree algo"
      ],
      "metadata": {
        "id": "8g1jI8XAFdHh"
      }
    },
    {
      "cell_type": "code",
      "source": [
        "from sklearn.tree import DecisionTreeRegressor\n",
        "y = imported.loc[:, 'UnitPrice']\n",
        "x = imported.loc[:, imported.columns != 'UnitPrice']\n",
        "x = x.select_dtypes(include=['number'])\n",
        "\n",
        "# Split data\n",
        "x_train, x_test, y_train, y_test = train_test_split(x, y, test_size=0.2, random_state=11)\n",
        "\n",
        "# call function\n",
        "model = DecisionTreeRegressor(random_state=42)\n",
        "model.fit(x_train, y_train)\n",
        "\n",
        "# Predict\n",
        "y_pred = model.predict(x_test)"
      ],
      "metadata": {
        "id": "NwKJYoOsFi-t"
      },
      "execution_count": 81,
      "outputs": []
    },
    {
      "cell_type": "markdown",
      "source": [
        "step 11-run decision"
      ],
      "metadata": {
        "id": "M8izTevyGvFA"
      }
    },
    {
      "cell_type": "code",
      "source": [
        "rmse = np.sqrt(mean_squared_error(y_test, y_pred))\n",
        "r2 = r2_score(y_test, y_pred)\n",
        "result.append([\"decision Regression\", r2])\n",
        "import matplotlib.pyplot as plt\n",
        "plt.scatter(y_test, y_pred, color='green')  # green dots\n",
        "plt.show()"
      ],
      "metadata": {
        "id": "Xq7jJmqTGzW8",
        "colab": {
          "base_uri": "https://localhost:8080/",
          "height": 430
        },
        "outputId": "10c7c0ce-e78e-4844-8509-28c74d4fc752"
      },
      "execution_count": 80,
      "outputs": [
        {
          "output_type": "display_data",
          "data": {
            "text/plain": [
              "<Figure size 640x480 with 1 Axes>"
            ],
            "image/png": "[encoded data removed]"
          },
          "metadata": {}
        }
      ]
    },
    {
      "cell_type": "markdown",
      "source": [
        "step 12-Lasso  (these are all same just some parts are a little different)"
      ],
      "metadata": {
        "id": "5VBWOsdxLMau"
      }
    },
    {
      "cell_type": "code",
      "source": [
        "from sklearn.linear_model import Lasso\n",
        "y = imported.loc[:, 'UnitPrice']\n",
        "x = imported.loc[:, imported.columns != 'UnitPrice']\n",
        "x = x.select_dtypes(include=['number'])\n",
        "x_train, x_test, y_train, y_test = train_test_split(x, y, test_size=0.2, random_state=11)\n",
        "\n",
        "\n",
        "# only this line is different\n",
        "\n",
        "\n",
        "model = Lasso(alpha=0.1)\n",
        "model.fit(x_train, y_train)\n",
        "y_pred = model.predict(x_test)\n",
        "rmse = np.sqrt(mean_squared_error(y_test, y_pred))\n",
        "r2 = r2_score(y_test, y_pred)\n",
        "result.append([\"lasso Regression\", r2])\n",
        "import matplotlib.pyplot as plt\n",
        "plt.scatter(y_test, y_pred, color='green')  # green dots\n",
        "plt.show()"
      ],
      "metadata": {
        "id": "xQ63ipoILXFR",
        "colab": {
          "base_uri": "https://localhost:8080/",
          "height": 430
        },
        "outputId": "0f2601fc-088c-4824-db45-d99c22ed5f4b"
      },
      "execution_count": 83,
      "outputs": [
        {
          "output_type": "display_data",
          "data": {
            "text/plain": [
              "<Figure size 640x480 with 1 Axes>"
            ],
            "image/png": "[encoded data removed]"
          },
          "metadata": {}
        }
      ]
    },
    {
      "cell_type": "markdown",
      "source": [
        "step 13-SVM (same too)"
      ],
      "metadata": {
        "id": "mNQ_exziQ-tI"
      }
    },
    {
      "cell_type": "code",
      "source": [
        "from sklearn.svm import SVR\n",
        "from sklearn.preprocessing import StandardScaler\n",
        "\n",
        "\n",
        "imported_small = imported.head(2000)\n",
        "\n",
        "y = imported_small['UnitPrice']\n",
        "x = imported_small.drop(columns=['UnitPrice'])\n",
        "x = x.select_dtypes(include=['number'])\n",
        "\n",
        "x_train, x_test, y_train, y_test = train_test_split(x, y, test_size=0.2, random_state=42)\n",
        "\n",
        "scaler = StandardScaler()\n",
        "x_train_scaled = scaler.fit_transform(x_train)\n",
        "x_test_scaled = scaler.transform(x_test)\n",
        "\n",
        "model = SVR()\n",
        "model.fit(x_train_scaled, y_train)\n",
        "\n",
        "\n",
        "y_pred = model.predict(x_test_scaled)\n",
        "rmse = np.sqrt(mean_squared_error(y_test, y_pred))\n",
        "r2 = r2_score(y_test, y_pred)\n",
        "result.append([\"svm Regression\", r2])\n",
        "import matplotlib.pyplot as plt\n",
        "plt.scatter(y_test, y_pred, color='green')  # green dots\n",
        "plt.show()"
      ],
      "metadata": {
        "id": "OH4G7HJqRFco",
        "colab": {
          "base_uri": "https://localhost:8080/",
          "height": 430
        },
        "outputId": "288bbf6e-a421-4cc0-8247-eaee5317738f"
      },
      "execution_count": 84,
      "outputs": [
        {
          "output_type": "display_data",
          "data": {
            "text/plain": [
              "<Figure size 640x480 with 1 Axes>"
            ],
            "image/png": "[encoded data removed]"
          },
          "metadata": {}
        }
      ]
    },
    {
      "cell_type": "markdown",
      "source": [
        "step 14-KNN"
      ],
      "metadata": {
        "id": "cGpfeIYTA9oi"
      }
    },
    {
      "cell_type": "code",
      "source": [
        "from sklearn.neighbors import KNeighborsRegressor\n",
        "from sklearn.preprocessing import StandardScaler\n",
        "\n",
        "imported_small = imported.head(2000)\n",
        "\n",
        "\n",
        "y = imported_small['UnitPrice']\n",
        "x = imported_small.drop(columns=['UnitPrice'])\n",
        "x = x.select_dtypes(include=['number'])\n",
        "\n",
        "\n",
        "x_train, x_test, y_train, y_test = train_test_split(x, y, test_size=0.2, random_state=42)\n",
        "\n",
        "\n",
        "scaler = StandardScaler()\n",
        "x_train_scaled = scaler.fit_transform(x_train)\n",
        "x_test_scaled = scaler.transform(x_test)\n",
        "\n",
        "\n",
        "model = KNeighborsRegressor(n_neighbors=5)\n",
        "model.fit(x_train_scaled, y_train)\n",
        "\n",
        "\n",
        "y_pred = model.predict(x_test_scaled)\n",
        "rmse = np.sqrt(mean_squared_error(y_test, y_pred))\n",
        "r2 = r2_score(y_test, y_pred)\n",
        "result.append([\"knn Regression\",r2])\n",
        "import matplotlib.pyplot as plt\n",
        "plt.scatter(y_test, y_pred, color='green')  # green dots\n",
        "plt.show()\n"
      ],
      "metadata": {
        "colab": {
          "base_uri": "https://localhost:8080/",
          "height": 430
        },
        "id": "2vsPJbG4BAkh",
        "outputId": "c29f0a78-7309-46d6-fa1c-6c072f694604"
      },
      "execution_count": 85,
      "outputs": [
        {
          "output_type": "display_data",
          "data": {
            "text/plain": [
              "<Figure size 640x480 with 1 Axes>"
            ],
            "image/png": "[encoded data removed]"
          },
          "metadata": {}
        }
      ]
    },
    {
      "cell_type": "markdown",
      "source": [
        "# Step 1: Target column\n",
        "y = df['UnitPrice']\n",
        "\n",
        "# Step 2: Features\n",
        "x = df.drop(columns=['UnitPrice']).select_dtypes(include=['number'])\n",
        "\n",
        "# Step 3: Train-test split\n",
        "x_train, x_test, y_train, y_test = train_test_split(x, y, test_size=0.2, random_state=42)\n",
        "\n",
        "# Step 4: Scale if needed\n",
        "scaler = StandardScaler()\n",
        "x_train_scaled = scaler.fit_transform(x_train)\n",
        "x_test_scaled = scaler.transform(x_test)\n",
        "\n",
        "# Step 5: Initialize model\n",
        "model = SomeRegressor()\n",
        "\n",
        "# Step 6: Train\n",
        "model.fit(x_train_scaled, y_train)  # or model.fit(x_train, y_train)\n",
        "\n",
        "# Step 7: Predict\n",
        "y_pred = model.predict(x_test_scaled)  # or model.predict(x_test)\n",
        "\n",
        "# Step 8: Evaluate\n",
        "rmse = np.sqrt(mean_squared_error(y_test, y_pred))\n",
        "r2 = r2_score(y_test, y_pred)\n"
      ],
      "metadata": {
        "id": "SFsLSMLJCohF"
      }
    },
    {
      "cell_type": "code",
      "source": [
        "finallist = pd.DataFrame(result, columns=[\"Model\", \"R² Score\"])\n",
        "print(finallist)"
      ],
      "metadata": {
        "colab": {
          "base_uri": "https://localhost:8080/"
        },
        "id": "BPyO6BixEV_-",
        "outputId": "786ebadb-4d13-4bed-c667-979835effacf"
      },
      "execution_count": 75,
      "outputs": [
        {
          "output_type": "stream",
          "name": "stdout",
          "text": [
            "                 Model  R² Score\n",
            "0               linear  1.000000\n",
            "1  decision Regression  1.000000\n",
            "2       svm Regression  0.359855\n",
            "3       knn Regression  0.518996\n"
          ]
        }
      ]
    },
    {
      "cell_type": "code",
      "source": [
        "import matplotlib.pyplot as plt\n",
        "plt.scatter(y_test, y_pred, color='green')  # green dots\n",
        "plt.show()\n"
      ],
      "metadata": {
        "colab": {
          "base_uri": "https://localhost:8080/",
          "height": 430
        },
        "id": "8ZkHor02gI0G",
        "outputId": "e8714bdb-4402-4aaa-f08a-6dba601ff07a"
      },
      "execution_count": 76,
      "outputs": [
        {
          "output_type": "display_data",
          "data": {
            "text/plain": [
              "<Figure size 640x480 with 1 Axes>"
            ],
            "image/png": "[encoded data removed]"
          },
          "metadata": {}
        }
      ]
    }
  ]
}