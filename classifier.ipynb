{
  "nbformat": 4,
  "nbformat_minor": 0,
  "metadata": {
    "colab": {
      "provenance": [],
      "authorship_tag": "ABX9TyPY68T4vuMu9APmTUHy/q70",
      "include_colab_link": true
    },
    "kernelspec": {
      "name": "python3",
      "display_name": "Python 3"
    },
    "language_info": {
      "name": "python"
    }
  },
  "cells": [
    {
      "cell_type": "markdown",
      "metadata": {
        "id": "view-in-github",
        "colab_type": "text"
      },
      "source": [
        "<a href=\"https://colab.research.google.com/github/madhura2024/myAI_MODELS/blob/main/classifier.ipynb\" target=\"_parent\"><img src=\"https://colab.research.google.com/assets/colab-badge.svg\" alt=\"Open In Colab\"/></a>"
      ]
    },
    {
      "cell_type": "markdown",
      "source": [
        "Classification Models"
      ],
      "metadata": {
        "id": "-utRZCAqs-wn"
      }
    },
    {
      "cell_type": "markdown",
      "source": [
        "fetch"
      ],
      "metadata": {
        "id": "16AQLOuvBXE7"
      }
    },
    {
      "cell_type": "code",
      "source": [
        "import pandas as pd\n",
        "import numpy as np\n",
        "url = \"https://archive.ics.uci.edu/ml/machine-learning-databases/00352/Online%20Retail.xlsx\"\n",
        "data = pd.read_excel(url)\n",
        "# data.head(300)\n"
      ],
      "metadata": {
        "id": "hHWBbAPV5Ee6"
      },
      "execution_count": 67,
      "outputs": []
    },
    {
      "cell_type": "markdown",
      "source": [
        "clean"
      ],
      "metadata": {
        "id": "S9ZPdC1pBaPy"
      }
    },
    {
      "cell_type": "code",
      "source": [
        "data=data.dropna(subset=[\"CustomerID\"])\n",
        "data['Description'] = data['Description'].fillna(\"Unknown\")\n",
        "data=data.dropna()"
      ],
      "metadata": {
        "id": "2Ukpcg9qBbgI"
      },
      "execution_count": 68,
      "outputs": []
    },
    {
      "cell_type": "markdown",
      "source": [
        "choose quantity greater than 0"
      ],
      "metadata": {
        "id": "niv2A9udFsFk"
      }
    },
    {
      "cell_type": "code",
      "source": [
        "sales=data[(data['Quantity'] > 0) & (data['UnitPrice'] > 0)]\n",
        "sales['totalsales']=(sales['Quantity'] * sales['Quantity'])\n",
        "# print(\"Total Sales Revenue:\",totalsales)"
      ],
      "metadata": {
        "colab": {
          "base_uri": "https://localhost:8080/"
        },
        "id": "03sxyLHRFwjL",
        "outputId": "1412381f-2b55-4cb3-a7d6-99fea0a0625c"
      },
      "execution_count": 69,
      "outputs": [
        {
          "output_type": "stream",
          "name": "stderr",
          "text": [
            "/tmp/ipython-input-2413391551.py:2: SettingWithCopyWarning: \n",
            "A value is trying to be set on a copy of a slice from a DataFrame.\n",
            "Try using .loc[row_indexer,col_indexer] = value instead\n",
            "\n",
            "See the caveats in the documentation: https://pandas.pydata.org/pandas-docs/stable/user_guide/indexing.html#returning-a-view-versus-a-copy\n",
            "  sales['totalsales']=(sales['Quantity'] * sales['Quantity'])\n"
          ]
        }
      ]
    },
    {
      "cell_type": "markdown",
      "source": [
        "now we are trying to find frequent customer / not  so for that we have to\n",
        "\n",
        "*   set up threshold benchmark\n",
        "*   compare and predict\n"
      ],
      "metadata": {
        "id": "P6zJPr9aRqvb"
      }
    },
    {
      "cell_type": "code",
      "source": [
        "threshold=100\n",
        "sales['HighValue'] = np.where(totalsales > threshold, 1, 0)\n",
        "# if > 100 return 1 else return 0"
      ],
      "metadata": {
        "colab": {
          "base_uri": "https://localhost:8080/"
        },
        "id": "1pq6sfwuR4h5",
        "outputId": "fde0e4ea-65c3-47b0-8295-aefe82e435a9"
      },
      "execution_count": 70,
      "outputs": [
        {
          "output_type": "stream",
          "name": "stderr",
          "text": [
            "/tmp/ipython-input-216688893.py:2: SettingWithCopyWarning: \n",
            "A value is trying to be set on a copy of a slice from a DataFrame.\n",
            "Try using .loc[row_indexer,col_indexer] = value instead\n",
            "\n",
            "See the caveats in the documentation: https://pandas.pydata.org/pandas-docs/stable/user_guide/indexing.html#returning-a-view-versus-a-copy\n",
            "  sales['HighValue'] = np.where(totalsales > threshold, 1, 0)\n"
          ]
        }
      ]
    },
    {
      "cell_type": "markdown",
      "source": [
        "choose input conditions and output to be found"
      ],
      "metadata": {
        "id": "JiZpfwFBTeqQ"
      }
    },
    {
      "cell_type": "code",
      "source": [
        "x = sales.drop(columns=['totalsales', 'HighValue', 'Quantity', 'UnitPrice'])\n",
        "x = x.select_dtypes(include='number')\n",
        "y = sales['HighValue']"
      ],
      "metadata": {
        "id": "zXs0__eZTjTI"
      },
      "execution_count": 71,
      "outputs": []
    },
    {
      "cell_type": "markdown",
      "source": [
        "train-test split"
      ],
      "metadata": {
        "id": "nuNSafVITs9L"
      }
    },
    {
      "cell_type": "code",
      "source": [
        "from sklearn.model_selection import train_test_split\n",
        "x_train,x_test,y_train,y_test=train_test_split(x, y, test_size=0.2, random_state=11)"
      ],
      "metadata": {
        "id": "WaCzlGwiTvQm"
      },
      "execution_count": 72,
      "outputs": []
    },
    {
      "cell_type": "markdown",
      "source": [
        "implement logistic classifier"
      ],
      "metadata": {
        "id": "m85TtPk_YFg-"
      }
    },
    {
      "cell_type": "code",
      "source": [
        "from sklearn.linear_model import LogisticRegression\n",
        "from sklearn.metrics import accuracy_score, classification_report\n",
        "\n",
        "model = LogisticRegression()\n",
        "model.fit(x_train, y_train)\n",
        "\n",
        "y_pred = model.predict(x_test)\n",
        "\n",
        "print(\"📌 Logistic Regression\")\n",
        "print(\"Accuracy:\", accuracy_score(y_test, y_pred))\n",
        "print(classification_report(y_test, y_pred))"
      ],
      "metadata": {
        "colab": {
          "base_uri": "https://localhost:8080/"
        },
        "id": "t7jCkD3jYJFg",
        "outputId": "b6d637d6-ae6a-46c4-b926-a95769bd7c9a"
      },
      "execution_count": 73,
      "outputs": [
        {
          "output_type": "stream",
          "name": "stdout",
          "text": [
            "📌 Logistic Regression\n",
            "Accuracy: 0.6804101687673574\n",
            "              precision    recall  f1-score   support\n",
            "\n",
            "           0       0.68      1.00      0.81     54145\n",
            "           1       0.00      0.00      0.00     25432\n",
            "\n",
            "    accuracy                           0.68     79577\n",
            "   macro avg       0.34      0.50      0.40     79577\n",
            "weighted avg       0.46      0.68      0.55     79577\n",
            "\n"
          ]
        },
        {
          "output_type": "stream",
          "name": "stderr",
          "text": [
            "/usr/local/lib/python3.12/dist-packages/sklearn/metrics/_classification.py:1565: UndefinedMetricWarning: Precision is ill-defined and being set to 0.0 in labels with no predicted samples. Use `zero_division` parameter to control this behavior.\n",
            "  _warn_prf(average, modifier, f\"{metric.capitalize()} is\", len(result))\n",
            "/usr/local/lib/python3.12/dist-packages/sklearn/metrics/_classification.py:1565: UndefinedMetricWarning: Precision is ill-defined and being set to 0.0 in labels with no predicted samples. Use `zero_division` parameter to control this behavior.\n",
            "  _warn_prf(average, modifier, f\"{metric.capitalize()} is\", len(result))\n",
            "/usr/local/lib/python3.12/dist-packages/sklearn/metrics/_classification.py:1565: UndefinedMetricWarning: Precision is ill-defined and being set to 0.0 in labels with no predicted samples. Use `zero_division` parameter to control this behavior.\n",
            "  _warn_prf(average, modifier, f\"{metric.capitalize()} is\", len(result))\n"
          ]
        }
      ]
    },
    {
      "cell_type": "markdown",
      "source": [
        "confusion matrix"
      ],
      "metadata": {
        "id": "tKrbFqMteHlc"
      }
    },
    {
      "cell_type": "code",
      "source": [
        "from sklearn.metrics import confusion_matrix, accuracy_score\n",
        "cm = confusion_matrix(y_test, y_pred)\n",
        "print(cm)\n",
        "accuracy_score(y_test, y_pred)"
      ],
      "metadata": {
        "colab": {
          "base_uri": "https://localhost:8080/"
        },
        "id": "9tabj0NQeJVf",
        "outputId": "b6f31d2d-66da-4e2f-d494-39c38a96a076"
      },
      "execution_count": 74,
      "outputs": [
        {
          "output_type": "stream",
          "name": "stdout",
          "text": [
            "[[54145     0]\n",
            " [25432     0]]\n"
          ]
        },
        {
          "output_type": "execute_result",
          "data": {
            "text/plain": [
              "0.6804101687673574"
            ]
          },
          "metadata": {},
          "execution_count": 74
        }
      ]
    },
    {
      "cell_type": "code",
      "source": [
        "import matplotlib.pyplot as plt\n",
        "plt.scatter(sales.loc[x_test.index, 'Quantity'], sales.loc[x_test.index, 'UnitPrice'], c=(y_test == y_pred))\n",
        "plt.show()"
      ],
      "metadata": {
        "colab": {
          "base_uri": "https://localhost:8080/",
          "height": 430
        },
        "id": "sVRGjbX3luI5",
        "outputId": "62bc94b2-b1fd-4980-bb97-25b2bbc5274b"
      },
      "execution_count": 80,
      "outputs": [
        {
          "output_type": "display_data",
          "data": {
            "text/plain": [
              "<Figure size 640x480 with 1 Axes>"
            ],
            "image/png": "[encoded data removed]"
          },
          "metadata": {}
        }
      ]
    },
    {
      "cell_type": "markdown",
      "source": [
        "randomforestclassifier"
      ],
      "metadata": {
        "id": "DGzqt2icsF3N"
      }
    },
    {
      "cell_type": "code",
      "source": [
        "from sklearn.ensemble import RandomForestClassifier\n",
        "model = RandomForestClassifier()\n",
        "model.fit(x_train, y_train)\n",
        "y_pred = model.predict(x_test)\n",
        "print(\"📌 RandomForestClassifier\")\n",
        "print(\"Accuracy:\", accuracy_score(y_test, y_pred))\n",
        "print(classification_report(y_test, y_pred))\n",
        "cm = confusion_matrix(y_test, y_pred)\n",
        "print(cm)\n",
        "accuracy_score(y_test, y_pred)\n",
        "plt.scatter(sales.loc[x_test.index, 'Quantity'], sales.loc[x_test.index, 'UnitPrice'], c=(y_test == y_pred))\n",
        "plt.show()"
      ],
      "metadata": {
        "colab": {
          "base_uri": "https://localhost:8080/",
          "height": 656
        },
        "id": "cPFSIjMttwzH",
        "outputId": "546e0190-8b03-4a95-da47-b013adf569b8"
      },
      "execution_count": 82,
      "outputs": [
        {
          "output_type": "stream",
          "name": "stdout",
          "text": [
            "📌 RandomForestClassifier\n",
            "Accuracy: 0.7654598690576423\n",
            "              precision    recall  f1-score   support\n",
            "\n",
            "           0       0.80      0.87      0.84     54145\n",
            "           1       0.66      0.54      0.59     25432\n",
            "\n",
            "    accuracy                           0.77     79577\n",
            "   macro avg       0.73      0.70      0.71     79577\n",
            "weighted avg       0.76      0.77      0.76     79577\n",
            "\n",
            "[[47256  6889]\n",
            " [11775 13657]]\n"
          ]
        },
        {
          "output_type": "display_data",
          "data": {
            "text/plain": [
              "<Figure size 640x480 with 1 Axes>"
            ],
            "image/png": "[encoded data removed]"
          },
          "metadata": {}
        }
      ]
    },
    {
      "cell_type": "markdown",
      "source": [
        "\n",
        "\n",
        "> decisiontreeclassifier\n"
      ],
      "metadata": {
        "id": "ENJ2YpSQuxpW"
      }
    },
    {
      "cell_type": "code",
      "source": [
        "from sklearn.tree import DecisionTreeClassifier\n",
        "model = DecisionTreeClassifier()\n",
        "model.fit(x_train, y_train)\n",
        "y_pred = model.predict(x_test)\n",
        "print(\"📌 DecisionTreeClassifier\")\n",
        "print(\"Accuracy:\", accuracy_score(y_test, y_pred))\n",
        "print(classification_report(y_test, y_pred))\n",
        "cm = confusion_matrix(y_test, y_pred)\n",
        "print(cm)\n",
        "accuracy_score(y_test, y_pred)\n",
        "plt.scatter(sales.loc[x_test.index, 'Quantity'], sales.loc[x_test.index, 'UnitPrice'], c=(y_test == y_pred))\n",
        "plt.show()"
      ],
      "metadata": {
        "colab": {
          "base_uri": "https://localhost:8080/",
          "height": 656
        },
        "id": "M-1hBTUnvW0u",
        "outputId": "e3c80190-0003-4745-d6a1-75b5724d3b89"
      },
      "execution_count": 86,
      "outputs": [
        {
          "output_type": "stream",
          "name": "stdout",
          "text": [
            "📌 DecisionTreeClassifier\n",
            "Accuracy: 0.7655478341731907\n",
            "              precision    recall  f1-score   support\n",
            "\n",
            "           0       0.80      0.88      0.84     54145\n",
            "           1       0.67      0.53      0.59     25432\n",
            "\n",
            "    accuracy                           0.77     79577\n",
            "   macro avg       0.73      0.70      0.71     79577\n",
            "weighted avg       0.76      0.77      0.76     79577\n",
            "\n",
            "[[47441  6704]\n",
            " [11953 13479]]\n"
          ]
        },
        {
          "output_type": "display_data",
          "data": {
            "text/plain": [
              "<Figure size 640x480 with 1 Axes>"
            ],
            "image/png": "[encoded data removed]"
          },
          "metadata": {}
        }
      ]
    },
    {
      "cell_type": "markdown",
      "source": [
        "knn"
      ],
      "metadata": {
        "id": "WekizIo1xdDz"
      }
    },
    {
      "cell_type": "code",
      "source": [
        "from sklearn.neighbors import KNeighborsClassifier\n",
        "from sklearn.metrics import accuracy_score, classification_report, confusion_matrix\n",
        "import matplotlib.pyplot as plt\n",
        "\n",
        "model = KNeighborsClassifier()\n",
        "model.fit(x_train, y_train)\n",
        "y_pred = model.predict(x_test)\n",
        "\n",
        "print(\"📌 KNeighborsClassifier\")\n",
        "print(\"Accuracy:\", accuracy_score(y_test, y_pred))\n",
        "print(classification_report(y_test, y_pred))\n",
        "cm = confusion_matrix(y_test, y_pred)\n",
        "print(cm)\n",
        "accuracy_score(y_test, y_pred)\n",
        "\n",
        "plt.scatter(sales.loc[x_test.index, 'Quantity'], sales.loc[x_test.index, 'UnitPrice'], c=(y_test == y_pred))\n",
        "plt.show()\n"
      ],
      "metadata": {
        "colab": {
          "base_uri": "https://localhost:8080/",
          "height": 656
        },
        "id": "HDsLYuuvxeEX",
        "outputId": "5de0e612-025c-473d-d9a8-40d3be36c838"
      },
      "execution_count": 87,
      "outputs": [
        {
          "output_type": "stream",
          "name": "stdout",
          "text": [
            "📌 KNeighborsClassifier\n",
            "Accuracy: 0.7411312313859533\n",
            "              precision    recall  f1-score   support\n",
            "\n",
            "           0       0.80      0.83      0.81     54145\n",
            "           1       0.60      0.55      0.58     25432\n",
            "\n",
            "    accuracy                           0.74     79577\n",
            "   macro avg       0.70      0.69      0.69     79577\n",
            "weighted avg       0.74      0.74      0.74     79577\n",
            "\n",
            "[[44966  9179]\n",
            " [11421 14011]]\n"
          ]
        },
        {
          "output_type": "display_data",
          "data": {
            "text/plain": [
              "<Figure size 640x480 with 1 Axes>"
            ],
            "image/png": "[encoded data removed]"
          },
          "metadata": {}
        }
      ]
    }
  ]
}