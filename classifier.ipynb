{
  "nbformat": 4,
  "nbformat_minor": 0,
  "metadata": {
    "colab": {
      "provenance": [],
      "authorship_tag": "ABX9TyOB1Ggmt79iEimI+c7XxJqv",
      "include_colab_link": true
    },
    "kernelspec": {
      "name": "python3",
      "display_name": "Python 3"
    },
    "language_info": {
      "name": "python"
    }
  },
  "cells": [
    {
      "cell_type": "markdown",
      "metadata": {
        "id": "view-in-github",
        "colab_type": "text"
      },
      "source": [
        "<a href=\"https://colab.research.google.com/github/madhura2024/myAI_MODELS/blob/main/classifier.ipynb\" target=\"_parent\"><img src=\"https://colab.research.google.com/assets/colab-badge.svg\" alt=\"Open In Colab\"/></a>"
      ]
    },
    {
      "cell_type": "markdown",
      "source": [
        "Classification Models"
      ],
      "metadata": {
        "id": "-utRZCAqs-wn"
      }
    },
    {
      "cell_type": "markdown",
      "source": [
        "fetch"
      ],
      "metadata": {
        "id": "16AQLOuvBXE7"
      }
    },
    {
      "cell_type": "code",
      "source": [
        "import pandas as pd\n",
        "import numpy as np\n",
        "url = \"https://archive.ics.uci.edu/ml/machine-learning-databases/00352/Online%20Retail.xlsx\"\n",
        "data = pd.read_excel(url)\n",
        "# data.head(300)\n"
      ],
      "metadata": {
        "id": "hHWBbAPV5Ee6"
      },
      "execution_count": 102,
      "outputs": []
    },
    {
      "cell_type": "markdown",
      "source": [
        "clean"
      ],
      "metadata": {
        "id": "S9ZPdC1pBaPy"
      }
    },
    {
      "cell_type": "code",
      "source": [
        "data=data.dropna(subset=[\"CustomerID\"])\n",
        "data['Description'] = data['Description'].fillna(\"Unknown\")\n",
        "data=data.dropna()"
      ],
      "metadata": {
        "id": "2Ukpcg9qBbgI"
      },
      "execution_count": 103,
      "outputs": []
    },
    {
      "cell_type": "markdown",
      "source": [
        "choose quantity greater than 0"
      ],
      "metadata": {
        "id": "niv2A9udFsFk"
      }
    },
    {
      "cell_type": "code",
      "source": [
        "sales=data[(data['Quantity'] > 0) & (data['UnitPrice'] > 0)]\n",
        "sales['totalsales']=(sales['Quantity'] * sales['UnitPrice'])\n",
        "# print(\"Total Sales Revenue:\",totalsales)"
      ],
      "metadata": {
        "colab": {
          "base_uri": "https://localhost:8080/"
        },
        "id": "03sxyLHRFwjL",
        "outputId": "9b995720-8701-4300-c74f-750c93b12cae"
      },
      "execution_count": 104,
      "outputs": [
        {
          "output_type": "stream",
          "name": "stderr",
          "text": [
            "/tmp/ipython-input-2715667667.py:2: SettingWithCopyWarning: \n",
            "A value is trying to be set on a copy of a slice from a DataFrame.\n",
            "Try using .loc[row_indexer,col_indexer] = value instead\n",
            "\n",
            "See the caveats in the documentation: https://pandas.pydata.org/pandas-docs/stable/user_guide/indexing.html#returning-a-view-versus-a-copy\n",
            "  sales['totalsales']=(sales['Quantity'] * sales['UnitPrice'])\n"
          ]
        }
      ]
    },
    {
      "cell_type": "markdown",
      "source": [
        "now we are trying to find frequent customer / not  so for that we have to\n",
        "\n",
        "*   set up threshold benchmark\n",
        "*   compare and predict\n"
      ],
      "metadata": {
        "id": "P6zJPr9aRqvb"
      }
    },
    {
      "cell_type": "code",
      "source": [
        "threshold=1000\n",
        "sales.loc[: , 'HighValue'] = np.where(sales['totalsales'] > threshold, 1, 0)\n",
        "# if > 100 return 1 else return 0"
      ],
      "metadata": {
        "colab": {
          "base_uri": "https://localhost:8080/"
        },
        "id": "1pq6sfwuR4h5",
        "outputId": "64f23f59-c9e4-444c-c7e3-f0a73f9c8208"
      },
      "execution_count": 105,
      "outputs": [
        {
          "output_type": "stream",
          "name": "stderr",
          "text": [
            "/tmp/ipython-input-2629790871.py:2: SettingWithCopyWarning: \n",
            "A value is trying to be set on a copy of a slice from a DataFrame.\n",
            "Try using .loc[row_indexer,col_indexer] = value instead\n",
            "\n",
            "See the caveats in the documentation: https://pandas.pydata.org/pandas-docs/stable/user_guide/indexing.html#returning-a-view-versus-a-copy\n",
            "  sales.loc[: , 'HighValue'] = np.where(sales['totalsales'] > threshold, 1, 0)\n"
          ]
        }
      ]
    },
    {
      "cell_type": "markdown",
      "source": [
        "choose input conditions and output to be found"
      ],
      "metadata": {
        "id": "JiZpfwFBTeqQ"
      }
    },
    {
      "cell_type": "code",
      "source": [
        "x = sales[['Quantity', 'UnitPrice', 'totalsales']]\n",
        "y = sales['HighValue']"
      ],
      "metadata": {
        "id": "zXs0__eZTjTI"
      },
      "execution_count": 106,
      "outputs": []
    },
    {
      "cell_type": "markdown",
      "source": [
        "train-test split"
      ],
      "metadata": {
        "id": "nuNSafVITs9L"
      }
    },
    {
      "cell_type": "code",
      "source": [
        "from sklearn.model_selection import train_test_split\n",
        "x_train,x_test,y_train,y_test=train_test_split(x, y, test_size=0.2, random_state=11)"
      ],
      "metadata": {
        "id": "WaCzlGwiTvQm"
      },
      "execution_count": 107,
      "outputs": []
    },
    {
      "cell_type": "markdown",
      "source": [
        "implement logistic classifier"
      ],
      "metadata": {
        "id": "m85TtPk_YFg-"
      }
    },
    {
      "cell_type": "code",
      "source": [
        "from sklearn.linear_model import LogisticRegression\n",
        "from sklearn.metrics import accuracy_score, classification_report\n",
        "\n",
        "model = LogisticRegression()\n",
        "model.fit(x_train, y_train)\n",
        "\n",
        "y_pred = model.predict(x_test)\n",
        "\n",
        "print(\"📌 Logistic Regression\")\n",
        "print(\"Accuracy:\", accuracy_score(y_test, y_pred))\n",
        "print(classification_report(y_test, y_pred))"
      ],
      "metadata": {
        "colab": {
          "base_uri": "https://localhost:8080/"
        },
        "id": "t7jCkD3jYJFg",
        "outputId": "0a634dbe-9ac8-4e65-e493-fdac7f6388a7"
      },
      "execution_count": 108,
      "outputs": [
        {
          "output_type": "stream",
          "name": "stdout",
          "text": [
            "📌 Logistic Regression\n",
            "Accuracy: 0.9999874335549217\n",
            "              precision    recall  f1-score   support\n",
            "\n",
            "           0       1.00      1.00      1.00     79509\n",
            "           1       1.00      0.99      0.99        68\n",
            "\n",
            "    accuracy                           1.00     79577\n",
            "   macro avg       1.00      0.99      1.00     79577\n",
            "weighted avg       1.00      1.00      1.00     79577\n",
            "\n"
          ]
        }
      ]
    },
    {
      "cell_type": "markdown",
      "source": [
        "confusion matrix"
      ],
      "metadata": {
        "id": "tKrbFqMteHlc"
      }
    },
    {
      "cell_type": "code",
      "source": [
        "from sklearn.metrics import confusion_matrix, accuracy_score\n",
        "cm = confusion_matrix(y_test, y_pred)\n",
        "print(cm)\n",
        "accuracy_score(y_test, y_pred)"
      ],
      "metadata": {
        "colab": {
          "base_uri": "https://localhost:8080/"
        },
        "id": "9tabj0NQeJVf",
        "outputId": "cba7845a-c8bc-4b76-eae1-7f38277c2651"
      },
      "execution_count": 109,
      "outputs": [
        {
          "output_type": "stream",
          "name": "stdout",
          "text": [
            "[[79509     0]\n",
            " [    1    67]]\n"
          ]
        },
        {
          "output_type": "execute_result",
          "data": {
            "text/plain": [
              "0.9999874335549217"
            ]
          },
          "metadata": {},
          "execution_count": 109
        }
      ]
    },
    {
      "cell_type": "code",
      "source": [
        "import matplotlib.pyplot as plt\n",
        "plt.scatter(sales.loc[x_test.index, 'Quantity'], sales.loc[x_test.index, 'UnitPrice'], c=(y_test == y_pred))\n",
        "plt.show()"
      ],
      "metadata": {
        "colab": {
          "base_uri": "https://localhost:8080/",
          "height": 430
        },
        "id": "sVRGjbX3luI5",
        "outputId": "3cb8c0b1-236c-4717-825f-b1d2667a2adb"
      },
      "execution_count": 110,
      "outputs": [
        {
          "output_type": "display_data",
          "data": {
            "text/plain": [
              "<Figure size 640x480 with 1 Axes>"
            ],
            "image/png": "[encoded data removed]"
          },
          "metadata": {}
        }
      ]
    },
    {
      "cell_type": "markdown",
      "source": [
        "randomforestclassifier"
      ],
      "metadata": {
        "id": "DGzqt2icsF3N"
      }
    },
    {
      "cell_type": "code",
      "source": [
        "from sklearn.ensemble import RandomForestClassifier\n",
        "model = RandomForestClassifier()\n",
        "model.fit(x_train, y_train)\n",
        "y_pred = model.predict(x_test)\n",
        "print(\"📌 RandomForestClassifier\")\n",
        "print(\"Accuracy:\", accuracy_score(y_test, y_pred))\n",
        "print(classification_report(y_test, y_pred))\n",
        "cm = confusion_matrix(y_test, y_pred)\n",
        "print(cm)\n",
        "accuracy_score(y_test, y_pred)\n",
        "plt.scatter(sales.loc[x_test.index, 'Quantity'], sales.loc[x_test.index, 'UnitPrice'], c=(y_test == y_pred))\n",
        "plt.show()"
      ],
      "metadata": {
        "colab": {
          "base_uri": "https://localhost:8080/",
          "height": 656
        },
        "id": "cPFSIjMttwzH",
        "outputId": "8fa490b6-a102-49f2-8c30-4ef2dbcc3362"
      },
      "execution_count": 111,
      "outputs": [
        {
          "output_type": "stream",
          "name": "stdout",
          "text": [
            "📌 RandomForestClassifier\n",
            "Accuracy: 0.9999874335549217\n",
            "              precision    recall  f1-score   support\n",
            "\n",
            "           0       1.00      1.00      1.00     79509\n",
            "           1       1.00      0.99      0.99        68\n",
            "\n",
            "    accuracy                           1.00     79577\n",
            "   macro avg       1.00      0.99      1.00     79577\n",
            "weighted avg       1.00      1.00      1.00     79577\n",
            "\n",
            "[[79509     0]\n",
            " [    1    67]]\n"
          ]
        },
        {
          "output_type": "display_data",
          "data": {
            "text/plain": [
              "<Figure size 640x480 with 1 Axes>"
            ],
            "image/png": "[encoded data removed]"
          },
          "metadata": {}
        }
      ]
    },
    {
      "cell_type": "code",
      "source": [
        "samples = pd.DataFrame({\n",
        "    'Quantity': [5, 50, 10, 2],\n",
        "    'UnitPrice': [30, 30, 200, 400]\n",
        "})\n",
        "\n",
        "# Add totalsales column if your model was trained with it\n",
        "samples['totalsales'] = samples['Quantity'] * samples['UnitPrice']\n",
        "\n",
        "# Now predict\n",
        "predictions = model.predict(samples)\n",
        "print(predictions)\n"
      ],
      "metadata": {
        "colab": {
          "base_uri": "https://localhost:8080/"
        },
        "id": "VQRxc6ynki3z",
        "outputId": "55e24f72-0c63-4fdf-cc2f-acb00ffe4a8e"
      },
      "execution_count": 112,
      "outputs": [
        {
          "output_type": "stream",
          "name": "stdout",
          "text": [
            "[0 1 1 0]\n"
          ]
        }
      ]
    },
    {
      "cell_type": "markdown",
      "source": [
        "\n",
        "\n",
        "> decisiontreeclassifier\n"
      ],
      "metadata": {
        "id": "ENJ2YpSQuxpW"
      }
    },
    {
      "cell_type": "code",
      "source": [
        "from sklearn.tree import DecisionTreeClassifier\n",
        "model = DecisionTreeClassifier()\n",
        "model.fit(x_train, y_train)\n",
        "y_pred = model.predict(x_test)\n",
        "print(\"📌 DecisionTreeClassifier\")\n",
        "print(\"Accuracy:\", accuracy_score(y_test, y_pred))\n",
        "print(classification_report(y_test, y_pred))\n",
        "cm = confusion_matrix(y_test, y_pred)\n",
        "print(cm)\n",
        "accuracy_score(y_test, y_pred)\n",
        "plt.scatter(sales.loc[x_test.index, 'Quantity'], sales.loc[x_test.index, 'UnitPrice'], c=(y_test == y_pred))\n",
        "plt.show()"
      ],
      "metadata": {
        "colab": {
          "base_uri": "https://localhost:8080/",
          "height": 656
        },
        "id": "M-1hBTUnvW0u",
        "outputId": "a1ea6f07-d884-49bc-e249-77156d6dbdeb"
      },
      "execution_count": 113,
      "outputs": [
        {
          "output_type": "stream",
          "name": "stdout",
          "text": [
            "📌 DecisionTreeClassifier\n",
            "Accuracy: 0.9999874335549217\n",
            "              precision    recall  f1-score   support\n",
            "\n",
            "           0       1.00      1.00      1.00     79509\n",
            "           1       1.00      0.99      0.99        68\n",
            "\n",
            "    accuracy                           1.00     79577\n",
            "   macro avg       1.00      0.99      1.00     79577\n",
            "weighted avg       1.00      1.00      1.00     79577\n",
            "\n",
            "[[79509     0]\n",
            " [    1    67]]\n"
          ]
        },
        {
          "output_type": "display_data",
          "data": {
            "text/plain": [
              "<Figure size 640x480 with 1 Axes>"
            ],
            "image/png": "[encoded data removed]"
          },
          "metadata": {}
        }
      ]
    },
    {
      "cell_type": "markdown",
      "source": [
        "knn"
      ],
      "metadata": {
        "id": "WekizIo1xdDz"
      }
    },
    {
      "cell_type": "code",
      "source": [
        "from sklearn.neighbors import KNeighborsClassifier\n",
        "from sklearn.metrics import accuracy_score, classification_report, confusion_matrix\n",
        "import matplotlib.pyplot as plt\n",
        "\n",
        "model = KNeighborsClassifier()\n",
        "model.fit(x_train, y_train)\n",
        "y_pred = model.predict(x_test)\n",
        "\n",
        "print(\"📌 KNeighborsClassifier\")\n",
        "print(\"Accuracy:\", accuracy_score(y_test, y_pred))\n",
        "print(classification_report(y_test, y_pred))\n",
        "cm = confusion_matrix(y_test, y_pred)\n",
        "print(cm)\n",
        "accuracy_score(y_test, y_pred)\n",
        "\n",
        "plt.scatter(sales.loc[x_test.index, 'Quantity'], sales.loc[x_test.index, 'UnitPrice'], c=(y_test == y_pred))\n",
        "plt.show()\n"
      ],
      "metadata": {
        "colab": {
          "base_uri": "https://localhost:8080/",
          "height": 656
        },
        "id": "HDsLYuuvxeEX",
        "outputId": "2dd41b1a-0860-47db-8109-5f8c57c47f78"
      },
      "execution_count": 114,
      "outputs": [
        {
          "output_type": "stream",
          "name": "stdout",
          "text": [
            "📌 KNeighborsClassifier\n",
            "Accuracy: 0.9999874335549217\n",
            "              precision    recall  f1-score   support\n",
            "\n",
            "           0       1.00      1.00      1.00     79509\n",
            "           1       1.00      0.99      0.99        68\n",
            "\n",
            "    accuracy                           1.00     79577\n",
            "   macro avg       1.00      0.99      1.00     79577\n",
            "weighted avg       1.00      1.00      1.00     79577\n",
            "\n",
            "[[79509     0]\n",
            " [    1    67]]\n"
          ]
        },
        {
          "output_type": "display_data",
          "data": {
            "text/plain": [
              "<Figure size 640x480 with 1 Axes>"
            ],
            "image/png": "[encoded data removed]"
          },
          "metadata": {}
        }
      ]
    },
    {
      "cell_type": "markdown",
      "source": [
        "naive bayes"
      ],
      "metadata": {
        "id": "wcXWYWdccyEy"
      }
    },
    {
      "cell_type": "code",
      "source": [
        "from sklearn.naive_bayes import GaussianNB\n",
        "from sklearn.metrics import accuracy_score, classification_report, confusion_matrix\n",
        "import matplotlib.pyplot as plt\n",
        "\n",
        "model = GaussianNB()\n",
        "model.fit(x_train, y_train)\n",
        "y_pred = model.predict(x_test)\n",
        "\n",
        "print(\"📌 GaussianNB\")\n",
        "print(\"Accuracy:\", accuracy_score(y_test, y_pred))\n",
        "print(classification_report(y_test, y_pred))\n",
        "cm = confusion_matrix(y_test, y_pred)\n",
        "print(cm)\n",
        "accuracy_score(y_test, y_pred)\n",
        "\n",
        "plt.scatter(sales.loc[x_test.index, 'Quantity'], sales.loc[x_test.index, 'UnitPrice'], c=(y_test == y_pred))\n",
        "plt.title(\"GaussianNB: Correct vs Incorrect Predictions\")\n",
        "plt.show()\n"
      ],
      "metadata": {
        "colab": {
          "base_uri": "https://localhost:8080/",
          "height": 678
        },
        "id": "6hBGiGDhc0to",
        "outputId": "03088262-2bee-4e19-83da-da5df5436439"
      },
      "execution_count": 115,
      "outputs": [
        {
          "output_type": "stream",
          "name": "stdout",
          "text": [
            "📌 GaussianNB\n",
            "Accuracy: 0.9916558804679744\n",
            "              precision    recall  f1-score   support\n",
            "\n",
            "           0       1.00      0.99      1.00     79509\n",
            "           1       0.09      1.00      0.17        68\n",
            "\n",
            "    accuracy                           0.99     79577\n",
            "   macro avg       0.55      1.00      0.58     79577\n",
            "weighted avg       1.00      0.99      1.00     79577\n",
            "\n",
            "[[78845   664]\n",
            " [    0    68]]\n"
          ]
        },
        {
          "output_type": "display_data",
          "data": {
            "text/plain": [
              "<Figure size 640x480 with 1 Axes>"
            ],
            "image/png": "[encoded data removed]"
          },
          "metadata": {}
        }
      ]
    },
    {
      "cell_type": "markdown",
      "source": [
        "now check for implementation what is my model taking as inputs?"
      ],
      "metadata": {
        "id": "qS2T9vOWhVVA"
      }
    },
    {
      "cell_type": "code",
      "source": [
        "print(x.columns)"
      ],
      "metadata": {
        "colab": {
          "base_uri": "https://localhost:8080/"
        },
        "id": "M-YdzvcShbUn",
        "outputId": "5508a0f1-a095-477e-df09-d3b7b7251824"
      },
      "execution_count": 116,
      "outputs": [
        {
          "output_type": "stream",
          "name": "stdout",
          "text": [
            "Index(['Quantity', 'UnitPrice', 'totalsales'], dtype='object')\n"
          ]
        }
      ]
    },
    {
      "cell_type": "markdown",
      "source": [
        "now pass value to check"
      ],
      "metadata": {
        "id": "cWjfrqRvjZCw"
      }
    },
    {
      "cell_type": "code",
      "source": [
        "samples = pd.DataFrame({\n",
        "    'Quantity': [5, 50, 10, 2],\n",
        "    'UnitPrice': [30, 30, 200, 400]\n",
        "})\n",
        "\n",
        "# Add totalsales column if your model was trained with it\n",
        "samples['totalsales'] = samples['Quantity'] * samples['UnitPrice']\n",
        "\n",
        "# Now predict\n",
        "predictions = model.predict(samples)\n",
        "print(predictions)\n"
      ],
      "metadata": {
        "colab": {
          "base_uri": "https://localhost:8080/"
        },
        "id": "qq2E0GPtjbSv",
        "outputId": "3241861d-4cf9-4db1-fe89-121a328cf0ef"
      },
      "execution_count": 117,
      "outputs": [
        {
          "output_type": "stream",
          "name": "stdout",
          "text": [
            "[0 1 1 1]\n"
          ]
        }
      ]
    }
  ]
}