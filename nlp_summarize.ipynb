{
  "nbformat": 4,
  "nbformat_minor": 0,
  "metadata": {
    "colab": {
      "provenance": [],
      "authorship_tag": "ABX9TyPyq2IPFpaDK7aNyM1V7cVZ",
      "include_colab_link": true
    },
    "kernelspec": {
      "name": "python3",
      "display_name": "Python 3"
    },
    "language_info": {
      "name": "python"
    }
  },
  "cells": [
    {
      "cell_type": "markdown",
      "metadata": {
        "id": "view-in-github",
        "colab_type": "text"
      },
      "source": [
        "<a href=\"https://colab.research.google.com/github/madhura2024/myAI_MODELS/blob/main/nlp_summarize.ipynb\" target=\"_parent\"><img src=\"https://colab.research.google.com/assets/colab-badge.svg\" alt=\"Open In Colab\"/></a>"
      ]
    },
    {
      "cell_type": "code",
      "execution_count": 10,
      "metadata": {
        "colab": {
          "base_uri": "https://localhost:8080/"
        },
        "id": "r4SZUqmnwuFt",
        "outputId": "ef9e5d13-34ab-4b7c-86ac-c1caa99e08ef"
      },
      "outputs": [
        {
          "output_type": "stream",
          "name": "stderr",
          "text": [
            "[nltk_data] Downloading package punkt to /root/nltk_data...\n",
            "[nltk_data]   Package punkt is already up-to-date!\n",
            "[nltk_data] Downloading package punkt_tab to /root/nltk_data...\n",
            "[nltk_data]   Package punkt_tab is already up-to-date!\n"
          ]
        },
        {
          "output_type": "stream",
          "name": "stdout",
          "text": [
            "Original Article:\n",
            " Dublin hi-tech labs to shut down..Dublin's hi-tech research laboratory, Media Labs Europe, is to shut down...The research centre, which was started by the Irish government and the Massachusetts Institute of Technology, was a hotbed for technology concepts. Since its opening in 2000, the centre has developed ideas, such as implants for teeth, and also aimed to be a digital hub for start-ups in the area. The centre was supposed to be self-funded, but has failed to attract the private cash injection it needs. In a statement, Media Labs Europe said the decision to close was taken because neither the Irish Government nor the prestigious US-based Massachusetts Institute of Technology (MIT) was willing to fund it. Prime Minister Bertie Ahern had wanted to the centre to become a big draw for smaller hi-tech companies, in an attempt to regenerate the area...About three dozen small firms were attracted to the area, but it is thought the effects of the dot.com recession damaged the Labs' long-term survival. The Labs needed about 10 million euros (US$13 million) a year from corporate sponsors to survive. \"In the end, it was too deep and too long a recession,\" said Simon Jones, the Labs' managing director. Ian Pearson, BT's futurologist, told the BBC News website that the closure was a \"real shame\". BT was just one of the companies that had worked with the Labs, looking at RFID tag developments and video conferencing. \"There were a lot of very talented, creative people there and they came up with some great ideas that were helping to ensure greater benefits of technology for society. \"I have no doubt that the individuals will be quickly snapped up by other research labs, but the synergies from them working as a team will be lost.\"..Noel Dempsey, the government's communications minister, said Mr Ahern had been \"very committed\" to the project. \"He is, I know, very disappointed it has come to this. At the time it seemed to be the right thing to do,\" he said. \"Unfortunately the model is not a sustainable one in the current climate.\"..During its five years, innovative and some unusual ideas for technologies were developed. In recent months, 14 patent applications had been filed by the Labs. Many concepts fed into science, engineering, and psychology as well as technology, but it is thought too few of the ideas were commercially viable in the near-term. Several research teams explored how which humans could react with technologies in ways which were entirely different. The Human Connectedness group, for example, developed the iBand, a bracelet which stored and exchanged information about you and your relationships. This information could be beamed to another wearer when two people shook hands. Other projects looked at using other human senses, like touch, to interact with devoices which could be embedded in the environment, or on the body itself. One project examined how brainwaves could directly control a computer game. The Labs, set up in an old Guinness brewery, housed around 100 people, made up of staff, researchers, students, collaborators and part-time undergraduate students. It is thought more than 50 people will lose their jobs when the Labs close on 1 February. According to its latest accounts, Media Lab Europe said it spent 8.16 million euros (about US$10.6 million) in 2003 and raised just 2.56 million euros (US$3.3 million).\n",
            "\n",
            "Generated Summary:\n",
            " Since its opening in 2000, the centre has developed ideas, such as implants for teeth, and also aimed to be a digital hub for start-ups in the area. Several research teams explored how which humans could react with technologies in ways which were entirely different.\n",
            "\n",
            "Real Summary:\n",
            " In a statement, Media Labs Europe said the decision to close was taken because neither the Irish Government nor the prestigious US-based Massachusetts Institute of Technology (MIT) was willing to fund it.The research centre, which was started by the Irish government and the Massachusetts Institute of Technology, was a hotbed for technology concepts.\"In the end, it was too deep and too long a recession,\" said Simon Jones, the Labs' managing director.It is thought more than 50 people will lose their jobs when the Labs close on 1 February.BT was just one of the companies that had worked with the Labs, looking at RFID tag developments and video conferencing.Dublin's hi-tech research laboratory, Media Labs Europe, is to shut down.Several research teams explored how which humans could react with technologies in ways which were entirely different.The Labs needed about 10 million euros (US$13 million) a year from corporate sponsors to survive.\"I have no doubt that the individuals will be quickly snapped up by other research labs, but the synergies from them working as a team will be lost.\"About three dozen small firms were attracted to the area, but it is thought the effects of the dot.com recession damaged the Labs' long-term survival.The centre was supposed to be self-funded, but has failed to attract the private cash injection it needs.During its five years, innovative and some unusual ideas for technologies were developed.\n"
          ]
        }
      ],
      "source": [
        "# Install library\n",
        "!pip install -q sumy\n",
        "\n",
        "\n",
        "# Import libraries\n",
        "import pandas as pd\n",
        "import nltk\n",
        "from sklearn.model_selection import train_test_split\n",
        "from sumy.parsers.plaintext import PlaintextParser\n",
        "from sumy.nlp.tokenizers import Tokenizer\n",
        "from sumy.summarizers.lex_rank import LexRankSummarizer\n",
        "\n",
        "# Download punkt tokenizer for NLTK (including punkt_tab if needed)\n",
        "nltk.download('punkt')\n",
        "nltk.download('punkt_tab')\n",
        "\n",
        "# Load dataset\n",
        "url = \"https://huggingface.co/datasets/gopalkalpande/bbc-news-summary/resolve/main/bbc-news-summary.csv\"\n",
        "df = pd.read_csv(url).dropna().drop_duplicates()\n",
        "df = df[['Articles', 'Summaries']]\n",
        "\n",
        "# Train-test split\n",
        "train, test = train_test_split(df, test_size=0.2, random_state=42)\n",
        "\n",
        "# Summarization function\n",
        "def summarize_text(text):\n",
        "    sentences = text.split(\".\")\n",
        "    if len(sentences) < 3:   # too short check\n",
        "        return \"Text too short to summarize.\"\n",
        "\n",
        "    parser = PlaintextParser.from_string(text, Tokenizer(\"english\"))\n",
        "    summarizer = LexRankSummarizer()\n",
        "    summary = summarizer(parser.document, 2)  # generate 2 sentences\n",
        "    return \" \".join(str(s) for s in summary)\n",
        "\n",
        "# Test with one article\n",
        "article = train['Articles'].iloc[0]\n",
        "print(\"Original Article:\\n\", article)\n",
        "print(\"\\nGenerated Summary:\\n\", summarize_text(article))\n",
        "print(\"\\nReal Summary:\\n\", train['Summaries'].iloc[0])\n"
      ]
    }
  ]
}