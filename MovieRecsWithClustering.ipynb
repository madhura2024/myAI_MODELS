{
  "nbformat": 4,
  "nbformat_minor": 0,
  "metadata": {
    "colab": {
      "provenance": [],
      "authorship_tag": "ABX9TyOxpof4CIUMCvAsHSdPoKSW",
      "include_colab_link": true
    },
    "kernelspec": {
      "name": "python3",
      "display_name": "Python 3"
    },
    "language_info": {
      "name": "python"
    }
  },
  "cells": [
    {
      "cell_type": "markdown",
      "metadata": {
        "id": "view-in-github",
        "colab_type": "text"
      },
      "source": [
        "<a href=\"https://colab.research.google.com/github/madhura2024/myAI_MODELS/blob/main/MovieRecsWithClustering.ipynb\" target=\"_parent\"><img src=\"https://colab.research.google.com/assets/colab-badge.svg\" alt=\"Open In Colab\"/></a>"
      ]
    },
    {
      "cell_type": "markdown",
      "source": [
        "NOTE:\n",
        "\n",
        "\n",
        "1.  in k means , random centroids need to be built so random_state is used and n_cluster is taken.\n",
        "\n",
        "\n",
        "2.   in agglomerative it is deterministic so no random_sate only n_cluster.\n",
        "\n",
        "\n",
        "3.   in dbscan , density based so eps defines the maximum distance between two points to be considered neighbors , and min_samples === centeroids  ===  n_cluster.\n",
        "\n",
        "\n",
        "\n",
        "\n"
      ],
      "metadata": {
        "id": "gDT7MCEGghXd"
      }
    },
    {
      "cell_type": "markdown",
      "source": [
        "CLUSTERING ON MOVIE RECOMMENDATIONS"
      ],
      "metadata": {
        "id": "V4Y1QqKj6LL3"
      }
    },
    {
      "cell_type": "code",
      "execution_count": 8,
      "metadata": {
        "id": "H1u7CDoHq1rk"
      },
      "outputs": [],
      "source": [
        "import pandas as pd\n",
        "movies = pd.read_csv(\"movie_metadata.csv\")\n",
        "# movies.head(5)"
      ]
    },
    {
      "cell_type": "markdown",
      "source": [
        "\n",
        "* Always scale when your algorithm involves distance measurements (like KMeans, KNN, SVM, PCA)No need to scale for tree-based algorithms (like Decision Trees, Random Forest, Gradient Boosting), and for Naive Bayes.\n",
        "* axis 1 means column wise concat (IMPORTANT , IT IS NOT JUST FOR DECORATION !!!!!!!!!!!!!!!!!!!!!!!!!!!!!!!!!!!!!!!!!!!!!!)\n",
        "* movies['genres'].str.get_dummies('|') IMPORTANT SINCE A GENRE CAN HAVE BOTH EXAMPLE: ROMANCE | DRAMA SO TAKE THEM AS 1 . onr hot coding ============>>>>>>>>>> 0  /   1\n",
        "\n",
        "\n",
        "\n",
        "\n"
      ],
      "metadata": {
        "id": "4ejvXrLN6R_B"
      }
    },
    {
      "cell_type": "code",
      "source": [
        "from sklearn.preprocessing import StandardScaler\n",
        "from sklearn.cluster import KMeans\n",
        "movies = movies[['movie_title', 'genres', 'imdb_score']]\n",
        "movies = movies.dropna().drop_duplicates()\n",
        "genres = movies['genres'].str.get_dummies('|')\n",
        "x = pd.concat([genres, movies[['imdb_score']]], axis=1)"
      ],
      "metadata": {
        "id": "91LzlJkvdKwZ"
      },
      "execution_count": 9,
      "outputs": []
    },
    {
      "cell_type": "markdown",
      "source": [
        "if you dont provide number of clusters error (V V IMP )"
      ],
      "metadata": {
        "id": "AWcLjv3akZM8"
      }
    },
    {
      "cell_type": "code",
      "source": [
        "scaler = StandardScaler()\n",
        "x_scaled = scaler.fit_transform(x)\n",
        "kmeans = KMeans(n_clusters=5, random_state=42)\n",
        "movies['Cluster'] = kmeans.fit_predict(x_scaled)"
      ],
      "metadata": {
        "id": "R60Oh_ENkYvx"
      },
      "execution_count": 10,
      "outputs": []
    },
    {
      "cell_type": "markdown",
      "source": [
        "most important part (RECOMMENDATION FUNCTION)"
      ],
      "metadata": {
        "id": "33ooP3w-FeTt"
      }
    },
    {
      "cell_type": "code",
      "source": [
        "movies['movie_title'] = movies['movie_title'].str.strip()\n",
        "\n",
        "def recommend(moviename):\n",
        "    if moviename not in movies['movie_title'].values:\n",
        "        return None\n",
        "    cluster_label = movies.loc[movies['movie_title'] == moviename, 'Cluster'].iloc[0]\n",
        "    return movies[movies['Cluster'] == cluster_label].head(5)[['movie_title', 'imdb_score']]\n",
        "\n",
        "recommendedmovies = recommend('Avatar')\n",
        "if recommendedmovies is not None:\n",
        "    print(recommendedmovies)"
      ],
      "metadata": {
        "colab": {
          "base_uri": "https://localhost:8080/"
        },
        "id": "0hMSkfBVFidZ",
        "outputId": "471f80b2-6ed2-44e9-da36-2c02b3e34eb3"
      },
      "execution_count": 11,
      "outputs": [
        {
          "output_type": "stream",
          "name": "stdout",
          "text": [
            "                                movie_title  imdb_score\n",
            "0                                    Avatar         7.9\n",
            "1  Pirates of the Caribbean: At World's End         7.1\n",
            "2                                   Spectre         6.8\n",
            "5                               John Carter         6.6\n",
            "6                              Spider-Man 3         6.2\n"
          ]
        }
      ]
    },
    {
      "cell_type": "markdown",
      "source": [
        "Agglomerative clustering"
      ],
      "metadata": {
        "id": "r0V0D2vCeBSM"
      }
    },
    {
      "cell_type": "code",
      "source": [
        "from sklearn.cluster import AgglomerativeClustering\n",
        "from sklearn.preprocessing import StandardScaler\n",
        "scaler = StandardScaler()\n",
        "x= scaler.fit_transform(x)\n",
        "\n",
        "#     NO RANDOM STATE HERE (V.V.IMPORTANT !!!!!!!!!!!!!!!!!!!!!!!!!!!!!!!!!!)\n",
        "\n",
        "agglomerative = AgglomerativeClustering(n_clusters=5)  # Specify the number of clusters (adjust as needed)\n",
        "movies['Cluster'] = agglomerative.fit_predict(x)"
      ],
      "metadata": {
        "id": "51JxaYnkeDs3"
      },
      "execution_count": 13,
      "outputs": []
    },
    {
      "cell_type": "code",
      "source": [
        "def recommend(moviename):\n",
        "    if moviename not in movies['movie_title'].values:\n",
        "        return None\n",
        "    cluster_label = movies.loc[movies['movie_title'] == moviename, 'Cluster'].iloc[0]\n",
        "    return movies[movies['Cluster'] == cluster_label].head(5)[['movie_title', 'imdb_score']]\n",
        "\n",
        "# Example: Recommend movies similar to 'Avatar'\n",
        "recommendedmovies = recommend('Inception')\n",
        "if recommendedmovies is not None:\n",
        "    print(recommendedmovies)"
      ],
      "metadata": {
        "colab": {
          "base_uri": "https://localhost:8080/"
        },
        "id": "Av-xI8iFequQ",
        "outputId": "317e63f3-b63c-4257-93cd-f8c3a800eed8"
      },
      "execution_count": 15,
      "outputs": [
        {
          "output_type": "stream",
          "name": "stdout",
          "text": [
            "                                movie_title  imdb_score\n",
            "0                                    Avatar         7.9\n",
            "1  Pirates of the Caribbean: At World's End         7.1\n",
            "2                                   Spectre         6.8\n",
            "3                     The Dark Knight Rises         8.5\n",
            "5                               John Carter         6.6\n"
          ]
        }
      ]
    },
    {
      "cell_type": "markdown",
      "source": [
        "DBSCAN"
      ],
      "metadata": {
        "id": "IdHnLHtYfVg_"
      }
    },
    {
      "cell_type": "code",
      "source": [
        "from sklearn.cluster import DBSCAN\n",
        "from sklearn.preprocessing import StandardScaler\n",
        "\n",
        "\n",
        "scaler = StandardScaler()\n",
        "x_scaled = scaler.fit_transform(x)\n",
        "\n",
        "dbscan = DBSCAN(eps=0.5, min_samples=5)\n",
        "movies['Cluster_DBSCAN'] = dbscan.fit_predict(x_scaled)\n",
        "\n",
        "\n",
        "def recommend(moviename):\n",
        "    if moviename not in movies['movie_title'].values:\n",
        "        return None\n",
        "    cluster_label = movies.loc[movies['movie_title'] == moviename, 'Cluster_DBSCAN'].iloc[0]\n",
        "    return movies[movies['Cluster_DBSCAN'] == cluster_label].head(5)[['movie_title', 'imdb_score']]\n",
        "\n",
        "recommendedmovies_dbscan = recommend('Inception')\n",
        "if recommendedmovies_dbscan is not None:\n",
        "    print(recommendedmovies_dbscan)\n"
      ],
      "metadata": {
        "colab": {
          "base_uri": "https://localhost:8080/"
        },
        "id": "bNw9neqsfW9b",
        "outputId": "146f3334-c1f9-498b-aafe-c99907ac9595"
      },
      "execution_count": 16,
      "outputs": [
        {
          "output_type": "stream",
          "name": "stdout",
          "text": [
            "              movie_title  imdb_score\n",
            "3   The Dark Knight Rises         8.5\n",
            "6            Spider-Man 3         6.2\n",
            "7                 Tangled         7.8\n",
            "12      Quantum of Solace         6.7\n",
            "14        The Lone Ranger         6.5\n"
          ]
        }
      ]
    }
  ]
}